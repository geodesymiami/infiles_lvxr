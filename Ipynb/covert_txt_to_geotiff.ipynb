{
 "cells": [
  {
   "cell_type": "code",
   "execution_count": 2,
   "metadata": {},
   "outputs": [
    {
     "name": "stdout",
     "output_type": "stream",
     "text": [
      "Finish convert txt files to geotiff files\n"
     ]
    }
   ],
   "source": [
    "import os\n",
    "import h5py\n",
    "import numpy as np\n",
    "from osgeo import gdal, gdal_array, osr\n",
    "\n",
    "#input parameters\n",
    "workdir_lalo = '/home/lvxr/insarlab/jupyter/lab/LargeEarthquake/MODEL/model4/Haiyuan/PS_dat/'\n",
    "lon = 'lon.txt'\n",
    "lon_str = workdir_lalo +  lon\n",
    "lat = 'lat.txt'\n",
    "lat_str = workdir_lalo +  lat\n",
    "\n",
    "lon_data = np.loadtxt(lon_str)\n",
    "lat_data = np.loadtxt(lat_str)\n",
    "\n",
    "workdir = '/home/lvxr/insarlab/jupyter/lab/LargeEarthquake/MODEL/model4/Haiyuan/PS_dat/'\n",
    "\n",
    "path_list = os.listdir(workdir)\n",
    "txt_name = []\n",
    "for filename in path_list:\n",
    "    if os.path.splitext(filename)[1] == '.txt':\n",
    "        txt_name.append(filename)\n",
    "txt_name.sort()\n",
    "\n",
    "for num in range(len(txt_name)):\n",
    "    disp = txt_name[num]\n",
    "    disp_str = workdir + '/' + disp\n",
    "    disp_data = np.loadtxt(disp_str)\n",
    "    # generate Geotiff data\n",
    "    output_tif = workdir + disp.split('.')[0] + '.tif'\n",
    "    xmin, ymin, xmax, ymax = [np.nanmin(lon_data), np.nanmin(lat_data), np.nanmax(lon_data), np.nanmax(lat_data)]\n",
    "    nrows, ncols = np.shape(disp_data)\n",
    "    xres = (xmax - xmin) / float(ncols)\n",
    "    yres = (ymax - ymin) / float(nrows)\n",
    "    geotransform = [xmin,xres,0,ymax,0,-yres]\n",
    "    raster = gdal.GetDriverByName('GTiff').Create(output_tif,ncols,nrows,1,gdal.GDT_Float32)\n",
    "    raster.SetGeoTransform(geotransform)\n",
    "    srs=osr.SpatialReference()\n",
    "    srs.ImportFromEPSG(4326) #WGS 84 - WGS84 - World Geodetic System 1984, used in GPS\n",
    "    raster.SetProjection(srs.ExportToWkt())\n",
    "    raster.GetRasterBand(1).WriteArray(disp_data)\n",
    "    raster.FlushCache()\n",
    "\n",
    "print('Finish convert txt files to geotiff files')"
   ]
  },
  {
   "cell_type": "code",
   "execution_count": null,
   "metadata": {},
   "outputs": [],
   "source": []
  }
 ],
 "metadata": {
  "kernelspec": {
   "display_name": "Python 3",
   "language": "python",
   "name": "python3"
  },
  "language_info": {
   "codemirror_mode": {
    "name": "ipython",
    "version": 3
   },
   "file_extension": ".py",
   "mimetype": "text/x-python",
   "name": "python",
   "nbconvert_exporter": "python",
   "pygments_lexer": "ipython3",
   "version": "3.7.3"
  }
 },
 "nbformat": 4,
 "nbformat_minor": 2
}
